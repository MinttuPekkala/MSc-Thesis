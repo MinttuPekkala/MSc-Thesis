{
 "cells": [
  {
   "cell_type": "markdown",
   "id": "41c190de-4398-43fa-8e6b-09f91e1032fa",
   "metadata": {},
   "source": [
    "Import Python libraries"
   ]
  },
  {
   "cell_type": "code",
   "execution_count": 4,
   "id": "e79725ee-346e-41bd-aeda-12599c35fd20",
   "metadata": {},
   "outputs": [],
   "source": [
    "import matplotlib.pyplot as plt\n",
    "import numpy as np\n",
    "import xarray as xr\n",
    "import seaborn as sns\n",
    "import cartopy.crs as ccrs\n",
    "import pandas as pd\n",
    "import glob\n",
    "import pyresample"
   ]
  },
  {
   "cell_type": "markdown",
   "id": "7ad8e297-8106-4458-bb7f-a431d89fa0c2",
   "metadata": {},
   "source": [
    "Open data"
   ]
  },
  {
   "cell_type": "code",
   "execution_count": 9,
   "id": "7127d754-8832-4d0f-9819-1a0392bfb8d4",
   "metadata": {},
   "outputs": [],
   "source": [
    "open_path = 'D:/analyysi/Plotting_ForLoop_results/Stacked_diffs_files/'"
   ]
  },
  {
   "cell_type": "code",
   "execution_count": 2,
   "id": "b1e78325-969a-4e7c-8914-015b9b513c2d",
   "metadata": {},
   "outputs": [],
   "source": [
    "Save_path = \"D:/analyysi/Masking_bare_ice_surfaces_for_SMAC/Masked_data/\""
   ]
  },
  {
   "cell_type": "code",
   "execution_count": 10,
   "id": "323a8f18-0216-4a43-8641-901ff547c1c9",
   "metadata": {},
   "outputs": [],
   "source": [
    "stacked_diffs = xr.open_dataset(open_path+'Stacked_file_201206.nc')"
   ]
  },
  {
   "cell_type": "code",
   "execution_count": 11,
   "id": "d7dd7162-b201-48e3-9982-87b4eef2819b",
   "metadata": {},
   "outputs": [
    {
     "data": {
      "text/html": [
       "<div><svg style=\"position: absolute; width: 0; height: 0; overflow: hidden\">\n",
       "<defs>\n",
       "<symbol id=\"icon-database\" viewBox=\"0 0 32 32\">\n",
       "<path d=\"M16 0c-8.837 0-16 2.239-16 5v4c0 2.761 7.163 5 16 5s16-2.239 16-5v-4c0-2.761-7.163-5-16-5z\"></path>\n",
       "<path d=\"M16 17c-8.837 0-16-2.239-16-5v6c0 2.761 7.163 5 16 5s16-2.239 16-5v-6c0 2.761-7.163 5-16 5z\"></path>\n",
       "<path d=\"M16 26c-8.837 0-16-2.239-16-5v6c0 2.761 7.163 5 16 5s16-2.239 16-5v-6c0 2.761-7.163 5-16 5z\"></path>\n",
       "</symbol>\n",
       "<symbol id=\"icon-file-text2\" viewBox=\"0 0 32 32\">\n",
       "<path d=\"M28.681 7.159c-0.694-0.947-1.662-2.053-2.724-3.116s-2.169-2.030-3.116-2.724c-1.612-1.182-2.393-1.319-2.841-1.319h-15.5c-1.378 0-2.5 1.121-2.5 2.5v27c0 1.378 1.122 2.5 2.5 2.5h23c1.378 0 2.5-1.122 2.5-2.5v-19.5c0-0.448-0.137-1.23-1.319-2.841zM24.543 5.457c0.959 0.959 1.712 1.825 2.268 2.543h-4.811v-4.811c0.718 0.556 1.584 1.309 2.543 2.268zM28 29.5c0 0.271-0.229 0.5-0.5 0.5h-23c-0.271 0-0.5-0.229-0.5-0.5v-27c0-0.271 0.229-0.5 0.5-0.5 0 0 15.499-0 15.5 0v7c0 0.552 0.448 1 1 1h7v19.5z\"></path>\n",
       "<path d=\"M23 26h-14c-0.552 0-1-0.448-1-1s0.448-1 1-1h14c0.552 0 1 0.448 1 1s-0.448 1-1 1z\"></path>\n",
       "<path d=\"M23 22h-14c-0.552 0-1-0.448-1-1s0.448-1 1-1h14c0.552 0 1 0.448 1 1s-0.448 1-1 1z\"></path>\n",
       "<path d=\"M23 18h-14c-0.552 0-1-0.448-1-1s0.448-1 1-1h14c0.552 0 1 0.448 1 1s-0.448 1-1 1z\"></path>\n",
       "</symbol>\n",
       "</defs>\n",
       "</svg>\n",
       "<style>/* CSS stylesheet for displaying xarray objects in jupyterlab.\n",
       " *\n",
       " */\n",
       "\n",
       ":root {\n",
       "  --xr-font-color0: var(--jp-content-font-color0, rgba(0, 0, 0, 1));\n",
       "  --xr-font-color2: var(--jp-content-font-color2, rgba(0, 0, 0, 0.54));\n",
       "  --xr-font-color3: var(--jp-content-font-color3, rgba(0, 0, 0, 0.38));\n",
       "  --xr-border-color: var(--jp-border-color2, #e0e0e0);\n",
       "  --xr-disabled-color: var(--jp-layout-color3, #bdbdbd);\n",
       "  --xr-background-color: var(--jp-layout-color0, white);\n",
       "  --xr-background-color-row-even: var(--jp-layout-color1, white);\n",
       "  --xr-background-color-row-odd: var(--jp-layout-color2, #eeeeee);\n",
       "}\n",
       "\n",
       "html[theme=dark],\n",
       "body[data-theme=dark],\n",
       "body.vscode-dark {\n",
       "  --xr-font-color0: rgba(255, 255, 255, 1);\n",
       "  --xr-font-color2: rgba(255, 255, 255, 0.54);\n",
       "  --xr-font-color3: rgba(255, 255, 255, 0.38);\n",
       "  --xr-border-color: #1F1F1F;\n",
       "  --xr-disabled-color: #515151;\n",
       "  --xr-background-color: #111111;\n",
       "  --xr-background-color-row-even: #111111;\n",
       "  --xr-background-color-row-odd: #313131;\n",
       "}\n",
       "\n",
       ".xr-wrap {\n",
       "  display: block !important;\n",
       "  min-width: 300px;\n",
       "  max-width: 700px;\n",
       "}\n",
       "\n",
       ".xr-text-repr-fallback {\n",
       "  /* fallback to plain text repr when CSS is not injected (untrusted notebook) */\n",
       "  display: none;\n",
       "}\n",
       "\n",
       ".xr-header {\n",
       "  padding-top: 6px;\n",
       "  padding-bottom: 6px;\n",
       "  margin-bottom: 4px;\n",
       "  border-bottom: solid 1px var(--xr-border-color);\n",
       "}\n",
       "\n",
       ".xr-header > div,\n",
       ".xr-header > ul {\n",
       "  display: inline;\n",
       "  margin-top: 0;\n",
       "  margin-bottom: 0;\n",
       "}\n",
       "\n",
       ".xr-obj-type,\n",
       ".xr-array-name {\n",
       "  margin-left: 2px;\n",
       "  margin-right: 10px;\n",
       "}\n",
       "\n",
       ".xr-obj-type {\n",
       "  color: var(--xr-font-color2);\n",
       "}\n",
       "\n",
       ".xr-sections {\n",
       "  padding-left: 0 !important;\n",
       "  display: grid;\n",
       "  grid-template-columns: 150px auto auto 1fr 20px 20px;\n",
       "}\n",
       "\n",
       ".xr-section-item {\n",
       "  display: contents;\n",
       "}\n",
       "\n",
       ".xr-section-item input {\n",
       "  display: none;\n",
       "}\n",
       "\n",
       ".xr-section-item input + label {\n",
       "  color: var(--xr-disabled-color);\n",
       "}\n",
       "\n",
       ".xr-section-item input:enabled + label {\n",
       "  cursor: pointer;\n",
       "  color: var(--xr-font-color2);\n",
       "}\n",
       "\n",
       ".xr-section-item input:enabled + label:hover {\n",
       "  color: var(--xr-font-color0);\n",
       "}\n",
       "\n",
       ".xr-section-summary {\n",
       "  grid-column: 1;\n",
       "  color: var(--xr-font-color2);\n",
       "  font-weight: 500;\n",
       "}\n",
       "\n",
       ".xr-section-summary > span {\n",
       "  display: inline-block;\n",
       "  padding-left: 0.5em;\n",
       "}\n",
       "\n",
       ".xr-section-summary-in:disabled + label {\n",
       "  color: var(--xr-font-color2);\n",
       "}\n",
       "\n",
       ".xr-section-summary-in + label:before {\n",
       "  display: inline-block;\n",
       "  content: '►';\n",
       "  font-size: 11px;\n",
       "  width: 15px;\n",
       "  text-align: center;\n",
       "}\n",
       "\n",
       ".xr-section-summary-in:disabled + label:before {\n",
       "  color: var(--xr-disabled-color);\n",
       "}\n",
       "\n",
       ".xr-section-summary-in:checked + label:before {\n",
       "  content: '▼';\n",
       "}\n",
       "\n",
       ".xr-section-summary-in:checked + label > span {\n",
       "  display: none;\n",
       "}\n",
       "\n",
       ".xr-section-summary,\n",
       ".xr-section-inline-details {\n",
       "  padding-top: 4px;\n",
       "  padding-bottom: 4px;\n",
       "}\n",
       "\n",
       ".xr-section-inline-details {\n",
       "  grid-column: 2 / -1;\n",
       "}\n",
       "\n",
       ".xr-section-details {\n",
       "  display: none;\n",
       "  grid-column: 1 / -1;\n",
       "  margin-bottom: 5px;\n",
       "}\n",
       "\n",
       ".xr-section-summary-in:checked ~ .xr-section-details {\n",
       "  display: contents;\n",
       "}\n",
       "\n",
       ".xr-array-wrap {\n",
       "  grid-column: 1 / -1;\n",
       "  display: grid;\n",
       "  grid-template-columns: 20px auto;\n",
       "}\n",
       "\n",
       ".xr-array-wrap > label {\n",
       "  grid-column: 1;\n",
       "  vertical-align: top;\n",
       "}\n",
       "\n",
       ".xr-preview {\n",
       "  color: var(--xr-font-color3);\n",
       "}\n",
       "\n",
       ".xr-array-preview,\n",
       ".xr-array-data {\n",
       "  padding: 0 5px !important;\n",
       "  grid-column: 2;\n",
       "}\n",
       "\n",
       ".xr-array-data,\n",
       ".xr-array-in:checked ~ .xr-array-preview {\n",
       "  display: none;\n",
       "}\n",
       "\n",
       ".xr-array-in:checked ~ .xr-array-data,\n",
       ".xr-array-preview {\n",
       "  display: inline-block;\n",
       "}\n",
       "\n",
       ".xr-dim-list {\n",
       "  display: inline-block !important;\n",
       "  list-style: none;\n",
       "  padding: 0 !important;\n",
       "  margin: 0;\n",
       "}\n",
       "\n",
       ".xr-dim-list li {\n",
       "  display: inline-block;\n",
       "  padding: 0;\n",
       "  margin: 0;\n",
       "}\n",
       "\n",
       ".xr-dim-list:before {\n",
       "  content: '(';\n",
       "}\n",
       "\n",
       ".xr-dim-list:after {\n",
       "  content: ')';\n",
       "}\n",
       "\n",
       ".xr-dim-list li:not(:last-child):after {\n",
       "  content: ',';\n",
       "  padding-right: 5px;\n",
       "}\n",
       "\n",
       ".xr-has-index {\n",
       "  font-weight: bold;\n",
       "}\n",
       "\n",
       ".xr-var-list,\n",
       ".xr-var-item {\n",
       "  display: contents;\n",
       "}\n",
       "\n",
       ".xr-var-item > div,\n",
       ".xr-var-item label,\n",
       ".xr-var-item > .xr-var-name span {\n",
       "  background-color: var(--xr-background-color-row-even);\n",
       "  margin-bottom: 0;\n",
       "}\n",
       "\n",
       ".xr-var-item > .xr-var-name:hover span {\n",
       "  padding-right: 5px;\n",
       "}\n",
       "\n",
       ".xr-var-list > li:nth-child(odd) > div,\n",
       ".xr-var-list > li:nth-child(odd) > label,\n",
       ".xr-var-list > li:nth-child(odd) > .xr-var-name span {\n",
       "  background-color: var(--xr-background-color-row-odd);\n",
       "}\n",
       "\n",
       ".xr-var-name {\n",
       "  grid-column: 1;\n",
       "}\n",
       "\n",
       ".xr-var-dims {\n",
       "  grid-column: 2;\n",
       "}\n",
       "\n",
       ".xr-var-dtype {\n",
       "  grid-column: 3;\n",
       "  text-align: right;\n",
       "  color: var(--xr-font-color2);\n",
       "}\n",
       "\n",
       ".xr-var-preview {\n",
       "  grid-column: 4;\n",
       "}\n",
       "\n",
       ".xr-index-preview {\n",
       "  grid-column: 2 / 5;\n",
       "  color: var(--xr-font-color2);\n",
       "}\n",
       "\n",
       ".xr-var-name,\n",
       ".xr-var-dims,\n",
       ".xr-var-dtype,\n",
       ".xr-preview,\n",
       ".xr-attrs dt {\n",
       "  white-space: nowrap;\n",
       "  overflow: hidden;\n",
       "  text-overflow: ellipsis;\n",
       "  padding-right: 10px;\n",
       "}\n",
       "\n",
       ".xr-var-name:hover,\n",
       ".xr-var-dims:hover,\n",
       ".xr-var-dtype:hover,\n",
       ".xr-attrs dt:hover {\n",
       "  overflow: visible;\n",
       "  width: auto;\n",
       "  z-index: 1;\n",
       "}\n",
       "\n",
       ".xr-var-attrs,\n",
       ".xr-var-data,\n",
       ".xr-index-data {\n",
       "  display: none;\n",
       "  background-color: var(--xr-background-color) !important;\n",
       "  padding-bottom: 5px !important;\n",
       "}\n",
       "\n",
       ".xr-var-attrs-in:checked ~ .xr-var-attrs,\n",
       ".xr-var-data-in:checked ~ .xr-var-data,\n",
       ".xr-index-data-in:checked ~ .xr-index-data {\n",
       "  display: block;\n",
       "}\n",
       "\n",
       ".xr-var-data > table {\n",
       "  float: right;\n",
       "}\n",
       "\n",
       ".xr-var-name span,\n",
       ".xr-var-data,\n",
       ".xr-index-name div,\n",
       ".xr-index-data,\n",
       ".xr-attrs {\n",
       "  padding-left: 25px !important;\n",
       "}\n",
       "\n",
       ".xr-attrs,\n",
       ".xr-var-attrs,\n",
       ".xr-var-data,\n",
       ".xr-index-data {\n",
       "  grid-column: 1 / -1;\n",
       "}\n",
       "\n",
       "dl.xr-attrs {\n",
       "  padding: 0;\n",
       "  margin: 0;\n",
       "  display: grid;\n",
       "  grid-template-columns: 125px auto;\n",
       "}\n",
       "\n",
       ".xr-attrs dt,\n",
       ".xr-attrs dd {\n",
       "  padding: 0;\n",
       "  margin: 0;\n",
       "  float: left;\n",
       "  padding-right: 10px;\n",
       "  width: auto;\n",
       "}\n",
       "\n",
       ".xr-attrs dt {\n",
       "  font-weight: normal;\n",
       "  grid-column: 1;\n",
       "}\n",
       "\n",
       ".xr-attrs dt:hover span {\n",
       "  display: inline-block;\n",
       "  background: var(--xr-background-color);\n",
       "  padding-right: 10px;\n",
       "}\n",
       "\n",
       ".xr-attrs dd {\n",
       "  grid-column: 2;\n",
       "  white-space: pre-wrap;\n",
       "  word-break: break-all;\n",
       "}\n",
       "\n",
       ".xr-icon-database,\n",
       ".xr-icon-file-text2,\n",
       ".xr-no-icon {\n",
       "  display: inline-block;\n",
       "  vertical-align: middle;\n",
       "  width: 1em;\n",
       "  height: 1.5em !important;\n",
       "  stroke-width: 0;\n",
       "  stroke: currentColor;\n",
       "  fill: currentColor;\n",
       "}\n",
       "</style><pre class='xr-text-repr-fallback'>&lt;xarray.Dataset&gt;\n",
       "Dimensions:            (time: 425, y: 360, x: 360)\n",
       "Coordinates:\n",
       "  * time               (time) datetime64[ns] 2012-06-01 ... 2012-07-01\n",
       "    lon                (y, x) float64 ...\n",
       "    lat                (y, x) float64 ...\n",
       "Dimensions without coordinates: y, x\n",
       "Data variables:\n",
       "    Diff_alb_SAL_TOA   (time, y, x) float64 ...\n",
       "    TOA_alb            (time, y, x) float64 ...\n",
       "    SAL_alb            (time, y, x) float64 ...\n",
       "    Water_vapour       (time, y, x) float64 ...\n",
       "    Ozone              (time, y, x) float64 ...\n",
       "    Surface_pressure   (time, y, x) float64 ...\n",
       "    sun_azimuth        (time, y, x) float64 ...\n",
       "    sun_zenith         (time, y, x) float64 ...\n",
       "    satellite_azimuth  (time, y, x) float64 ...\n",
       "    satellite_zenith   (time, y, x) float64 ...</pre><div class='xr-wrap' style='display:none'><div class='xr-header'><div class='xr-obj-type'>xarray.Dataset</div></div><ul class='xr-sections'><li class='xr-section-item'><input id='section-fa79c11e-b4e8-47bf-904b-c503c428043a' class='xr-section-summary-in' type='checkbox' disabled ><label for='section-fa79c11e-b4e8-47bf-904b-c503c428043a' class='xr-section-summary'  title='Expand/collapse section'>Dimensions:</label><div class='xr-section-inline-details'><ul class='xr-dim-list'><li><span class='xr-has-index'>time</span>: 425</li><li><span>y</span>: 360</li><li><span>x</span>: 360</li></ul></div><div class='xr-section-details'></div></li><li class='xr-section-item'><input id='section-25376077-ac92-4500-85d1-656537a0a039' class='xr-section-summary-in' type='checkbox'  checked><label for='section-25376077-ac92-4500-85d1-656537a0a039' class='xr-section-summary' >Coordinates: <span>(3)</span></label><div class='xr-section-inline-details'></div><div class='xr-section-details'><ul class='xr-var-list'><li class='xr-var-item'><div class='xr-var-name'><span class='xr-has-index'>time</span></div><div class='xr-var-dims'>(time)</div><div class='xr-var-dtype'>datetime64[ns]</div><div class='xr-var-preview xr-preview'>2012-06-01 ... 2012-07-01</div><input id='attrs-7e8d1044-83e8-4580-bb0a-c9b57fc23ca9' class='xr-var-attrs-in' type='checkbox' disabled><label for='attrs-7e8d1044-83e8-4580-bb0a-c9b57fc23ca9' title='Show/Hide attributes'><svg class='icon xr-icon-file-text2'><use xlink:href='#icon-file-text2'></use></svg></label><input id='data-735c81f2-287d-4af2-8eea-9ff2e9c9c6df' class='xr-var-data-in' type='checkbox'><label for='data-735c81f2-287d-4af2-8eea-9ff2e9c9c6df' title='Show/Hide data repr'><svg class='icon xr-icon-database'><use xlink:href='#icon-database'></use></svg></label><div class='xr-var-attrs'><dl class='xr-attrs'></dl></div><div class='xr-var-data'><pre>array([&#x27;2012-06-01T00:00:00.000000000&#x27;, &#x27;2012-06-01T00:00:00.000000000&#x27;,\n",
       "       &#x27;2012-06-01T00:00:00.000000000&#x27;, ..., &#x27;2012-07-01T00:00:00.000000000&#x27;,\n",
       "       &#x27;2012-07-01T00:00:00.000000000&#x27;, &#x27;2012-07-01T00:00:00.000000000&#x27;],\n",
       "      dtype=&#x27;datetime64[ns]&#x27;)</pre></div></li><li class='xr-var-item'><div class='xr-var-name'><span>lon</span></div><div class='xr-var-dims'>(y, x)</div><div class='xr-var-dtype'>float64</div><div class='xr-var-preview xr-preview'>...</div><input id='attrs-1469a2f9-9bb5-46c8-bc8d-b106c475d15c' class='xr-var-attrs-in' type='checkbox' disabled><label for='attrs-1469a2f9-9bb5-46c8-bc8d-b106c475d15c' title='Show/Hide attributes'><svg class='icon xr-icon-file-text2'><use xlink:href='#icon-file-text2'></use></svg></label><input id='data-aef95b11-1a2d-4968-8e41-6a34396e3700' class='xr-var-data-in' type='checkbox'><label for='data-aef95b11-1a2d-4968-8e41-6a34396e3700' title='Show/Hide data repr'><svg class='icon xr-icon-database'><use xlink:href='#icon-database'></use></svg></label><div class='xr-var-attrs'><dl class='xr-attrs'></dl></div><div class='xr-var-data'><pre>[129600 values with dtype=float64]</pre></div></li><li class='xr-var-item'><div class='xr-var-name'><span>lat</span></div><div class='xr-var-dims'>(y, x)</div><div class='xr-var-dtype'>float64</div><div class='xr-var-preview xr-preview'>...</div><input id='attrs-e95895dd-9edd-4ebc-9b46-a64b6494804d' class='xr-var-attrs-in' type='checkbox' disabled><label for='attrs-e95895dd-9edd-4ebc-9b46-a64b6494804d' title='Show/Hide attributes'><svg class='icon xr-icon-file-text2'><use xlink:href='#icon-file-text2'></use></svg></label><input id='data-00417e76-d516-4362-bea7-762bad09d2fe' class='xr-var-data-in' type='checkbox'><label for='data-00417e76-d516-4362-bea7-762bad09d2fe' title='Show/Hide data repr'><svg class='icon xr-icon-database'><use xlink:href='#icon-database'></use></svg></label><div class='xr-var-attrs'><dl class='xr-attrs'></dl></div><div class='xr-var-data'><pre>[129600 values with dtype=float64]</pre></div></li></ul></div></li><li class='xr-section-item'><input id='section-22557e0f-ebd0-4245-8a32-597ca9d9052f' class='xr-section-summary-in' type='checkbox'  checked><label for='section-22557e0f-ebd0-4245-8a32-597ca9d9052f' class='xr-section-summary' >Data variables: <span>(10)</span></label><div class='xr-section-inline-details'></div><div class='xr-section-details'><ul class='xr-var-list'><li class='xr-var-item'><div class='xr-var-name'><span>Diff_alb_SAL_TOA</span></div><div class='xr-var-dims'>(time, y, x)</div><div class='xr-var-dtype'>float64</div><div class='xr-var-preview xr-preview'>...</div><input id='attrs-2f75ea5c-7c88-4cb4-bcb0-384d68d38202' class='xr-var-attrs-in' type='checkbox' disabled><label for='attrs-2f75ea5c-7c88-4cb4-bcb0-384d68d38202' title='Show/Hide attributes'><svg class='icon xr-icon-file-text2'><use xlink:href='#icon-file-text2'></use></svg></label><input id='data-38b8d29f-2783-422f-8e52-cbb8612eed63' class='xr-var-data-in' type='checkbox'><label for='data-38b8d29f-2783-422f-8e52-cbb8612eed63' title='Show/Hide data repr'><svg class='icon xr-icon-database'><use xlink:href='#icon-database'></use></svg></label><div class='xr-var-attrs'><dl class='xr-attrs'></dl></div><div class='xr-var-data'><pre>[55080000 values with dtype=float64]</pre></div></li><li class='xr-var-item'><div class='xr-var-name'><span>TOA_alb</span></div><div class='xr-var-dims'>(time, y, x)</div><div class='xr-var-dtype'>float64</div><div class='xr-var-preview xr-preview'>...</div><input id='attrs-16eb946b-0d70-42f9-9aa2-dd55562aedb1' class='xr-var-attrs-in' type='checkbox' disabled><label for='attrs-16eb946b-0d70-42f9-9aa2-dd55562aedb1' title='Show/Hide attributes'><svg class='icon xr-icon-file-text2'><use xlink:href='#icon-file-text2'></use></svg></label><input id='data-4f32bf3d-f580-49bd-b14f-0192bb9114ed' class='xr-var-data-in' type='checkbox'><label for='data-4f32bf3d-f580-49bd-b14f-0192bb9114ed' title='Show/Hide data repr'><svg class='icon xr-icon-database'><use xlink:href='#icon-database'></use></svg></label><div class='xr-var-attrs'><dl class='xr-attrs'></dl></div><div class='xr-var-data'><pre>[55080000 values with dtype=float64]</pre></div></li><li class='xr-var-item'><div class='xr-var-name'><span>SAL_alb</span></div><div class='xr-var-dims'>(time, y, x)</div><div class='xr-var-dtype'>float64</div><div class='xr-var-preview xr-preview'>...</div><input id='attrs-f739e6d0-40e1-4435-8328-6565e2572079' class='xr-var-attrs-in' type='checkbox' disabled><label for='attrs-f739e6d0-40e1-4435-8328-6565e2572079' title='Show/Hide attributes'><svg class='icon xr-icon-file-text2'><use xlink:href='#icon-file-text2'></use></svg></label><input id='data-67885434-7b09-4e6a-9fa2-0606103511e6' class='xr-var-data-in' type='checkbox'><label for='data-67885434-7b09-4e6a-9fa2-0606103511e6' title='Show/Hide data repr'><svg class='icon xr-icon-database'><use xlink:href='#icon-database'></use></svg></label><div class='xr-var-attrs'><dl class='xr-attrs'></dl></div><div class='xr-var-data'><pre>[55080000 values with dtype=float64]</pre></div></li><li class='xr-var-item'><div class='xr-var-name'><span>Water_vapour</span></div><div class='xr-var-dims'>(time, y, x)</div><div class='xr-var-dtype'>float64</div><div class='xr-var-preview xr-preview'>...</div><input id='attrs-08bb3bda-b9ba-4d9a-9277-feb03793b032' class='xr-var-attrs-in' type='checkbox' disabled><label for='attrs-08bb3bda-b9ba-4d9a-9277-feb03793b032' title='Show/Hide attributes'><svg class='icon xr-icon-file-text2'><use xlink:href='#icon-file-text2'></use></svg></label><input id='data-063e02cb-d510-4380-a0bc-c7f9bd006fe8' class='xr-var-data-in' type='checkbox'><label for='data-063e02cb-d510-4380-a0bc-c7f9bd006fe8' title='Show/Hide data repr'><svg class='icon xr-icon-database'><use xlink:href='#icon-database'></use></svg></label><div class='xr-var-attrs'><dl class='xr-attrs'></dl></div><div class='xr-var-data'><pre>[55080000 values with dtype=float64]</pre></div></li><li class='xr-var-item'><div class='xr-var-name'><span>Ozone</span></div><div class='xr-var-dims'>(time, y, x)</div><div class='xr-var-dtype'>float64</div><div class='xr-var-preview xr-preview'>...</div><input id='attrs-e1f314b4-ec6f-49a9-9630-56a396422093' class='xr-var-attrs-in' type='checkbox' disabled><label for='attrs-e1f314b4-ec6f-49a9-9630-56a396422093' title='Show/Hide attributes'><svg class='icon xr-icon-file-text2'><use xlink:href='#icon-file-text2'></use></svg></label><input id='data-f65f7496-5c3f-4f63-bd7b-53acc2d57de6' class='xr-var-data-in' type='checkbox'><label for='data-f65f7496-5c3f-4f63-bd7b-53acc2d57de6' title='Show/Hide data repr'><svg class='icon xr-icon-database'><use xlink:href='#icon-database'></use></svg></label><div class='xr-var-attrs'><dl class='xr-attrs'></dl></div><div class='xr-var-data'><pre>[55080000 values with dtype=float64]</pre></div></li><li class='xr-var-item'><div class='xr-var-name'><span>Surface_pressure</span></div><div class='xr-var-dims'>(time, y, x)</div><div class='xr-var-dtype'>float64</div><div class='xr-var-preview xr-preview'>...</div><input id='attrs-8716c62c-680b-4339-9f97-4baf1ed8c9b4' class='xr-var-attrs-in' type='checkbox' disabled><label for='attrs-8716c62c-680b-4339-9f97-4baf1ed8c9b4' title='Show/Hide attributes'><svg class='icon xr-icon-file-text2'><use xlink:href='#icon-file-text2'></use></svg></label><input id='data-bc7221ad-cf1b-46d2-998b-a95477bfbba4' class='xr-var-data-in' type='checkbox'><label for='data-bc7221ad-cf1b-46d2-998b-a95477bfbba4' title='Show/Hide data repr'><svg class='icon xr-icon-database'><use xlink:href='#icon-database'></use></svg></label><div class='xr-var-attrs'><dl class='xr-attrs'></dl></div><div class='xr-var-data'><pre>[55080000 values with dtype=float64]</pre></div></li><li class='xr-var-item'><div class='xr-var-name'><span>sun_azimuth</span></div><div class='xr-var-dims'>(time, y, x)</div><div class='xr-var-dtype'>float64</div><div class='xr-var-preview xr-preview'>...</div><input id='attrs-5337cd8f-3aeb-4769-bb43-57f1993a2ba5' class='xr-var-attrs-in' type='checkbox' disabled><label for='attrs-5337cd8f-3aeb-4769-bb43-57f1993a2ba5' title='Show/Hide attributes'><svg class='icon xr-icon-file-text2'><use xlink:href='#icon-file-text2'></use></svg></label><input id='data-587adb3e-2a96-4ac0-916d-b422fcd2c548' class='xr-var-data-in' type='checkbox'><label for='data-587adb3e-2a96-4ac0-916d-b422fcd2c548' title='Show/Hide data repr'><svg class='icon xr-icon-database'><use xlink:href='#icon-database'></use></svg></label><div class='xr-var-attrs'><dl class='xr-attrs'></dl></div><div class='xr-var-data'><pre>[55080000 values with dtype=float64]</pre></div></li><li class='xr-var-item'><div class='xr-var-name'><span>sun_zenith</span></div><div class='xr-var-dims'>(time, y, x)</div><div class='xr-var-dtype'>float64</div><div class='xr-var-preview xr-preview'>...</div><input id='attrs-ceda0d49-6189-4873-8faf-ad47d77f022c' class='xr-var-attrs-in' type='checkbox' disabled><label for='attrs-ceda0d49-6189-4873-8faf-ad47d77f022c' title='Show/Hide attributes'><svg class='icon xr-icon-file-text2'><use xlink:href='#icon-file-text2'></use></svg></label><input id='data-e0341b4c-d152-4b1a-8ecf-a162580888d9' class='xr-var-data-in' type='checkbox'><label for='data-e0341b4c-d152-4b1a-8ecf-a162580888d9' title='Show/Hide data repr'><svg class='icon xr-icon-database'><use xlink:href='#icon-database'></use></svg></label><div class='xr-var-attrs'><dl class='xr-attrs'></dl></div><div class='xr-var-data'><pre>[55080000 values with dtype=float64]</pre></div></li><li class='xr-var-item'><div class='xr-var-name'><span>satellite_azimuth</span></div><div class='xr-var-dims'>(time, y, x)</div><div class='xr-var-dtype'>float64</div><div class='xr-var-preview xr-preview'>...</div><input id='attrs-04a6e2ee-90a8-4af3-ab9e-39ee97e74d6f' class='xr-var-attrs-in' type='checkbox' disabled><label for='attrs-04a6e2ee-90a8-4af3-ab9e-39ee97e74d6f' title='Show/Hide attributes'><svg class='icon xr-icon-file-text2'><use xlink:href='#icon-file-text2'></use></svg></label><input id='data-c0db8f0d-2654-473a-bd59-bc8cf334dba9' class='xr-var-data-in' type='checkbox'><label for='data-c0db8f0d-2654-473a-bd59-bc8cf334dba9' title='Show/Hide data repr'><svg class='icon xr-icon-database'><use xlink:href='#icon-database'></use></svg></label><div class='xr-var-attrs'><dl class='xr-attrs'></dl></div><div class='xr-var-data'><pre>[55080000 values with dtype=float64]</pre></div></li><li class='xr-var-item'><div class='xr-var-name'><span>satellite_zenith</span></div><div class='xr-var-dims'>(time, y, x)</div><div class='xr-var-dtype'>float64</div><div class='xr-var-preview xr-preview'>...</div><input id='attrs-0bd2340d-8729-4e0d-9ec5-678d8d090bce' class='xr-var-attrs-in' type='checkbox' disabled><label for='attrs-0bd2340d-8729-4e0d-9ec5-678d8d090bce' title='Show/Hide attributes'><svg class='icon xr-icon-file-text2'><use xlink:href='#icon-file-text2'></use></svg></label><input id='data-2f7ccaff-db6b-40e7-86dd-cbcc45b03a76' class='xr-var-data-in' type='checkbox'><label for='data-2f7ccaff-db6b-40e7-86dd-cbcc45b03a76' title='Show/Hide data repr'><svg class='icon xr-icon-database'><use xlink:href='#icon-database'></use></svg></label><div class='xr-var-attrs'><dl class='xr-attrs'></dl></div><div class='xr-var-data'><pre>[55080000 values with dtype=float64]</pre></div></li></ul></div></li><li class='xr-section-item'><input id='section-3af6c795-2667-4799-8d5c-a037892fd3b2' class='xr-section-summary-in' type='checkbox'  ><label for='section-3af6c795-2667-4799-8d5c-a037892fd3b2' class='xr-section-summary' >Indexes: <span>(1)</span></label><div class='xr-section-inline-details'></div><div class='xr-section-details'><ul class='xr-var-list'><li class='xr-var-item'><div class='xr-index-name'><div>time</div></div><div class='xr-index-preview'>PandasIndex</div><div></div><input id='index-bd809f48-564a-4c4b-916a-7d00c45f73ea' class='xr-index-data-in' type='checkbox'/><label for='index-bd809f48-564a-4c4b-916a-7d00c45f73ea' title='Show/Hide index repr'><svg class='icon xr-icon-database'><use xlink:href='#icon-database'></use></svg></label><div class='xr-index-data'><pre>PandasIndex(DatetimeIndex([&#x27;2012-06-01&#x27;, &#x27;2012-06-01&#x27;, &#x27;2012-06-01&#x27;, &#x27;2012-06-01&#x27;,\n",
       "               &#x27;2012-06-01&#x27;, &#x27;2012-06-01&#x27;, &#x27;2012-06-01&#x27;, &#x27;2012-06-02&#x27;,\n",
       "               &#x27;2012-06-02&#x27;, &#x27;2012-06-02&#x27;,\n",
       "               ...\n",
       "               &#x27;2012-06-30&#x27;, &#x27;2012-06-30&#x27;, &#x27;2012-06-30&#x27;, &#x27;2012-07-01&#x27;,\n",
       "               &#x27;2012-07-01&#x27;, &#x27;2012-07-01&#x27;, &#x27;2012-07-01&#x27;, &#x27;2012-07-01&#x27;,\n",
       "               &#x27;2012-07-01&#x27;, &#x27;2012-07-01&#x27;],\n",
       "              dtype=&#x27;datetime64[ns]&#x27;, name=&#x27;time&#x27;, length=425, freq=None))</pre></div></li></ul></div></li><li class='xr-section-item'><input id='section-5abba065-2703-4e47-974b-9b7d2d5c0907' class='xr-section-summary-in' type='checkbox' disabled ><label for='section-5abba065-2703-4e47-974b-9b7d2d5c0907' class='xr-section-summary'  title='Expand/collapse section'>Attributes: <span>(0)</span></label><div class='xr-section-inline-details'></div><div class='xr-section-details'><dl class='xr-attrs'></dl></div></li></ul></div></div>"
      ],
      "text/plain": [
       "<xarray.Dataset>\n",
       "Dimensions:            (time: 425, y: 360, x: 360)\n",
       "Coordinates:\n",
       "  * time               (time) datetime64[ns] 2012-06-01 ... 2012-07-01\n",
       "    lon                (y, x) float64 ...\n",
       "    lat                (y, x) float64 ...\n",
       "Dimensions without coordinates: y, x\n",
       "Data variables:\n",
       "    Diff_alb_SAL_TOA   (time, y, x) float64 ...\n",
       "    TOA_alb            (time, y, x) float64 ...\n",
       "    SAL_alb            (time, y, x) float64 ...\n",
       "    Water_vapour       (time, y, x) float64 ...\n",
       "    Ozone              (time, y, x) float64 ...\n",
       "    Surface_pressure   (time, y, x) float64 ...\n",
       "    sun_azimuth        (time, y, x) float64 ...\n",
       "    sun_zenith         (time, y, x) float64 ...\n",
       "    satellite_azimuth  (time, y, x) float64 ...\n",
       "    satellite_zenith   (time, y, x) float64 ..."
      ]
     },
     "execution_count": 11,
     "metadata": {},
     "output_type": "execute_result"
    }
   ],
   "source": [
    "stacked_diffs"
   ]
  },
  {
   "cell_type": "markdown",
   "id": "61060053-d7c7-4b98-bd4e-558223d20afd",
   "metadata": {},
   "source": [
    "Open masks"
   ]
  },
  {
   "cell_type": "code",
   "execution_count": 13,
   "id": "f8e49880-c4fe-4849-ac1c-b71149542e40",
   "metadata": {},
   "outputs": [
    {
     "name": "stdout",
     "output_type": "stream",
     "text": [
      "[[nan nan nan ... nan nan nan]\n",
      " [nan nan nan ... nan nan nan]\n",
      " [nan nan nan ... nan nan nan]\n",
      " ...\n",
      " [nan nan nan ... nan nan nan]\n",
      " [nan nan nan ... nan nan nan]\n",
      " [nan nan nan ... nan nan nan]]\n"
     ]
    }
   ],
   "source": [
    "Mask1 = np.loadtxt(\"D:/analyysi/Masking_bare_ice_surfaces_for_SMAC/Mask1_sea.txt\")\n",
    "print(Mask1)"
   ]
  },
  {
   "cell_type": "code",
   "execution_count": 25,
   "id": "2b04a79e-63b1-4473-9887-f8c6e34e2b4d",
   "metadata": {},
   "outputs": [
    {
     "name": "stdout",
     "output_type": "stream",
     "text": [
      "[[nan nan nan ... nan nan nan]\n",
      " [nan nan nan ... nan nan nan]\n",
      " [nan nan nan ... nan nan nan]\n",
      " ...\n",
      " [nan nan nan ... nan nan nan]\n",
      " [nan nan nan ... nan nan nan]\n",
      " [nan nan nan ... nan nan nan]]\n"
     ]
    }
   ],
   "source": [
    "Mask2 = np.loadtxt(\"D:/analyysi/Masking_bare_ice_surfaces_for_SMAC/Mask2_sea_icesheet.txt\")\n",
    "print(Mask2)"
   ]
  },
  {
   "cell_type": "markdown",
   "id": "c43af014-5209-42e2-a010-f9e268d661db",
   "metadata": {},
   "source": [
    "Mask data"
   ]
  },
  {
   "cell_type": "code",
   "execution_count": 21,
   "id": "a9541c95-ccf7-42e9-ba47-fbda55c447bf",
   "metadata": {},
   "outputs": [],
   "source": [
    "Mask1_stacked_diffs = stacked_diffs*Mask1"
   ]
  },
  {
   "cell_type": "code",
   "execution_count": 24,
   "id": "231f7378-6544-435a-96e8-579afd636cd4",
   "metadata": {},
   "outputs": [],
   "source": [
    "Mask1_stacked_diffs.to_netcdf(Save_path + 'Stacked_diffs_062012_Mask1_sea' +  '.nc')"
   ]
  },
  {
   "cell_type": "code",
   "execution_count": 26,
   "id": "16a08cf2-4e90-4570-9ac1-ff41b7fbb69e",
   "metadata": {},
   "outputs": [],
   "source": [
    "Mask2_stacked_diffs = stacked_diffs*Mask2"
   ]
  },
  {
   "cell_type": "code",
   "execution_count": 27,
   "id": "c518e058-4aff-4339-9b6b-5f86407dedb2",
   "metadata": {},
   "outputs": [],
   "source": [
    "Mask2_stacked_diffs.to_netcdf(Save_path + 'Stacked_diffs_062012_Mask2_sea' +  '.nc')"
   ]
  },
  {
   "cell_type": "markdown",
   "id": "0df188f6-c988-4400-a931-9f2873ffb0db",
   "metadata": {},
   "source": [
    "Try plotting data"
   ]
  },
  {
   "cell_type": "code",
   "execution_count": 31,
   "id": "95efa31c-903f-4e0b-b14e-46613728cdac",
   "metadata": {},
   "outputs": [],
   "source": [
    "Mask1_stacked_diffs_mean = Mask1_stacked_diffs.resample(time='1D').mean()"
   ]
  },
  {
   "cell_type": "code",
   "execution_count": 32,
   "id": "f2d80c13-d727-4f13-96f7-512107f53726",
   "metadata": {},
   "outputs": [],
   "source": [
    "Mask1_Diff_alb_SAL_TOA = Mask1_stacked_diffs_mean['Diff_alb_SAL_TOA']"
   ]
  },
  {
   "cell_type": "code",
   "execution_count": 35,
   "id": "6f69d7e1-f301-4730-bb91-01b1e4c21b0b",
   "metadata": {},
   "outputs": [
    {
     "data": {
      "text/plain": [
       "(array([4.0000e+00, 2.8000e+01, 1.0400e+02, 2.8900e+02, 1.5740e+03,\n",
       "        4.9253e+04, 7.3844e+04, 5.7602e+04, 3.4000e+01, 1.0000e+00]),\n",
       " array([-0.6570186 , -0.54448059, -0.43194258, -0.31940457, -0.20686656,\n",
       "        -0.09432855,  0.01820947,  0.13074748,  0.24328549,  0.3558235 ,\n",
       "         0.46836151]),\n",
       " <BarContainer object of 10 artists>)"
      ]
     },
     "execution_count": 35,
     "metadata": {},
     "output_type": "execute_result"
    },
    {
     "data": {
      "image/png": "[encoded data removed]",
      "text/plain": [
       "<Figure size 640x480 with 1 Axes>"
      ]
     },
     "metadata": {},
     "output_type": "display_data"
    }
   ],
   "source": [
    "Mask1_Diff_alb_SAL_TOA.plot()"
   ]
  },
  {
   "cell_type": "code",
   "execution_count": 36,
   "id": "77790965-9e7c-44f2-a527-04d790e4b785",
   "metadata": {},
   "outputs": [],
   "source": [
    "Mask2_stacked_diffs_mean = Mask2_stacked_diffs.resample(time='1D').mean()"
   ]
  },
  {
   "cell_type": "code",
   "execution_count": 37,
   "id": "5da27a1c-b01e-4a81-8020-be19bc78ab95",
   "metadata": {},
   "outputs": [],
   "source": [
    "Mask2_Diff_alb_SAL_TOA = Mask2_stacked_diffs_mean['Diff_alb_SAL_TOA']"
   ]
  },
  {
   "cell_type": "code",
   "execution_count": 38,
   "id": "2f87f7f6-6357-46bf-a876-7607ff4631b7",
   "metadata": {},
   "outputs": [
    {
     "data": {
      "text/plain": [
       "(array([5.00000e+00, 3.00000e+01, 1.08000e+02, 2.99000e+02, 1.63300e+03,\n",
       "        5.09350e+04, 7.88070e+04, 1.05556e+05, 2.65000e+02, 3.00000e+00]),\n",
       " array([-0.6570186 , -0.54448059, -0.43194258, -0.31940457, -0.20686656,\n",
       "        -0.09432855,  0.01820947,  0.13074748,  0.24328549,  0.3558235 ,\n",
       "         0.46836151]),\n",
       " <BarContainer object of 10 artists>)"
      ]
     },
     "execution_count": 38,
     "metadata": {},
     "output_type": "execute_result"
    },
    {
     "data": {
      "image/png": "[encoded data removed]",
      "text/plain": [
       "<Figure size 640x480 with 1 Axes>"
      ]
     },
     "metadata": {},
     "output_type": "display_data"
    }
   ],
   "source": [
    "Mask2_Diff_alb_SAL_TOA.plot()"
   ]
  }
 ],
 "metadata": {
  "kernelspec": {
   "display_name": "Python 3 (ipykernel)",
   "language": "python",
   "name": "python3"
  },
  "language_info": {
   "codemirror_mode": {
    "name": "ipython",
    "version": 3
   },
   "file_extension": ".py",
   "mimetype": "text/x-python",
   "name": "python",
   "nbconvert_exporter": "python",
   "pygments_lexer": "ipython3",
   "version": "3.10.12"
  }
 },
 "nbformat": 4,
 "nbformat_minor": 5
}
